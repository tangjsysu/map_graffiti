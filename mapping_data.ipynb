{
 "cells": [
  {
   "cell_type": "code",
   "execution_count": 22,
   "id": "4b90eaa8-18c5-4ba2-9b1f-ad03861ba4d1",
   "metadata": {},
   "outputs": [],
   "source": [
    "import pandas as pd\n",
    "import folium\n",
    "\n",
    "# 加载数据\n",
    "data_path = 'E:/UZH/24spring/GEO885GisProject/project/data/Cri.data/tomap_data.xlsx' \n",
    "data = pd.read_excel(data_path)\n",
    "\n",
    "# 创建基础地图\n",
    "m = folium.Map(location=[data['latitude'].mean(), data['longtitude'].mean()], zoom_start=12)\n",
    "\n",
    "for index, row in data.iterrows():\n",
    "    image_filename = row['imgnames']\n",
    "    image_path = f\"graffitiinjpg/{image_filename}\"  # 构建包含正确扩展名的相对路径\n",
    "    \n",
    "    lang = row['language total']\n",
    "    if pd.isna(lang):\n",
    "        color = 'gray'  # 如果language total列为空，则标记颜色为灰色\n",
    "    elif 'EN' in lang:\n",
    "        color = 'blue'  # 如果包含英语，则标记颜色为蓝色\n",
    "    elif 'SE' in lang:\n",
    "        color = 'green'  # 如果包含塞尔维亚语，则标记颜色为绿色\n",
    "    else:\n",
    "        color = 'red'  # 其他语言或组合，默认标记颜色为红色\n",
    "        \n",
    "    language = row['language'] if not pd.isna(row['language']) else \"Unknown\"  # 检查language列，如果为空则显示\"Unknown\"\n",
    "    content = row['content'] if not pd.isna(row['content']) else \"No content\"  # 检查content列，如果为空则显示\"No content\"\n",
    "\n",
    "    # 创建弹出窗口的HTML内容，包括图片和语言、内容信息\n",
    "    popup_html = f\"\"\"\n",
    "    <div style=\"width:150px;\"><img src=\"{image_path}\" alt=\"image\" width=\"100%\" style=\"margin-bottom:10px;\">\n",
    "    <p><b>Language:</b> {language}</p>\n",
    "    <p><b>Content:</b> {content}</p></div>\n",
    "    \"\"\"\n",
    "\n",
    "    popup = folium.Popup(popup_html, max_width=300)\n",
    "    folium.Marker(\n",
    "        location=[row['latitude'], row['longtitude']],\n",
    "        popup=popup,\n",
    "        icon=folium.Icon(color=color)  # 假设变量color已经根据语言或其他条件被设置\n",
    "    ).add_to(m)\n",
    "\n",
    "# 保存地图到HTML文件\n",
    "map_file_path = 'E:/UZH/24spring/GEO885GisProject/project/data/Cri.data/linguistic_landscape_map2.html'  # 保存地图的路径\n",
    "m.save(map_file_path)\n"
   ]
  },
  {
   "cell_type": "code",
   "execution_count": null,
   "id": "274b1513-e001-444a-822d-772e4ee5bc35",
   "metadata": {},
   "outputs": [],
   "source": []
  }
 ],
 "metadata": {
  "kernelspec": {
   "display_name": "Python 3 (ipykernel)",
   "language": "python",
   "name": "python3"
  },
  "language_info": {
   "codemirror_mode": {
    "name": "ipython",
    "version": 3
   },
   "file_extension": ".py",
   "mimetype": "text/x-python",
   "name": "python",
   "nbconvert_exporter": "python",
   "pygments_lexer": "ipython3",
   "version": "3.10.13"
  }
 },
 "nbformat": 4,
 "nbformat_minor": 5
}
